{
 "cells": [
  {
   "cell_type": "markdown",
   "metadata": {},
   "source": [
    "# La regresion lineal simple  \n",
    "Para esta practica se utilizara del libro de Econometria de Wooldridge el modelo **\"CEO Salary and Return on Equity\"**. Donde se propone la siguiente ecuación:\n",
    "\n",
    "$$Salary = \\beta_0 + \\beta_1 \\cdot ROE + \\epsilon$$\n",
    "\n",
    "Ya que se pretende hacer sin ninguna librería que realice los cálculos matemáticos de forma automático se deben de importar de forma minima las siguientes librerías: *numpy, pandas y matplotlib.pyplot(para realizar las gráficas, no para cálculos)*.\n",
    "\n",
    "Se deben de obtener los siguientes resultados para poder aceptar la forma en que se realizaron los cálculos\n",
    "\n",
    "$$\\widehat{Salary} = 963.1913 + 18.50119 \\cdot ROE + \\epsilon$$\n",
    "\n",
    "Es decir\n",
    "\n",
    "$$\\hat{\\beta_0} = 963.1913$$\n",
    "$$\\hat{\\beta_1} = 18.50119$$"
   ]
  },
  {
   "cell_type": "code",
   "execution_count": 78,
   "metadata": {},
   "outputs": [],
   "source": [
    "import numpy as np\n",
    "import pandas as pd\n",
    "import matplotlib.pyplot as plt"
   ]
  },
  {
   "cell_type": "markdown",
   "metadata": {},
   "source": [
    "Para poder descargar los datos de Wooldridge se usara la librería \"wooldridge\""
   ]
  },
  {
   "cell_type": "code",
   "execution_count": 79,
   "metadata": {},
   "outputs": [],
   "source": [
    "import wooldridge as woo"
   ]
  },
  {
   "cell_type": "markdown",
   "metadata": {},
   "source": [
    "De la siguiente forma se obtiene la base de datos y posteriormente se separan las variables según corresponde"
   ]
  },
  {
   "cell_type": "code",
   "execution_count": 80,
   "metadata": {},
   "outputs": [
    {
     "data": {
      "text/html": [
       "<div>\n",
       "<style scoped>\n",
       "    .dataframe tbody tr th:only-of-type {\n",
       "        vertical-align: middle;\n",
       "    }\n",
       "\n",
       "    .dataframe tbody tr th {\n",
       "        vertical-align: top;\n",
       "    }\n",
       "\n",
       "    .dataframe thead th {\n",
       "        text-align: right;\n",
       "    }\n",
       "</style>\n",
       "<table border=\"1\" class=\"dataframe\">\n",
       "  <thead>\n",
       "    <tr style=\"text-align: right;\">\n",
       "      <th></th>\n",
       "      <th>salary</th>\n",
       "      <th>pcsalary</th>\n",
       "      <th>sales</th>\n",
       "      <th>roe</th>\n",
       "      <th>pcroe</th>\n",
       "      <th>ros</th>\n",
       "      <th>indus</th>\n",
       "      <th>finance</th>\n",
       "      <th>consprod</th>\n",
       "      <th>utility</th>\n",
       "      <th>lsalary</th>\n",
       "      <th>lsales</th>\n",
       "    </tr>\n",
       "  </thead>\n",
       "  <tbody>\n",
       "    <tr>\n",
       "      <th>0</th>\n",
       "      <td>1095</td>\n",
       "      <td>20</td>\n",
       "      <td>27595.000000</td>\n",
       "      <td>14.1</td>\n",
       "      <td>106.400002</td>\n",
       "      <td>191</td>\n",
       "      <td>1</td>\n",
       "      <td>0</td>\n",
       "      <td>0</td>\n",
       "      <td>0</td>\n",
       "      <td>6.998509</td>\n",
       "      <td>10.225389</td>\n",
       "    </tr>\n",
       "    <tr>\n",
       "      <th>1</th>\n",
       "      <td>1001</td>\n",
       "      <td>32</td>\n",
       "      <td>9958.000000</td>\n",
       "      <td>10.9</td>\n",
       "      <td>-30.600000</td>\n",
       "      <td>13</td>\n",
       "      <td>1</td>\n",
       "      <td>0</td>\n",
       "      <td>0</td>\n",
       "      <td>0</td>\n",
       "      <td>6.908755</td>\n",
       "      <td>9.206132</td>\n",
       "    </tr>\n",
       "    <tr>\n",
       "      <th>2</th>\n",
       "      <td>1122</td>\n",
       "      <td>9</td>\n",
       "      <td>6125.899902</td>\n",
       "      <td>23.5</td>\n",
       "      <td>-16.299999</td>\n",
       "      <td>14</td>\n",
       "      <td>1</td>\n",
       "      <td>0</td>\n",
       "      <td>0</td>\n",
       "      <td>0</td>\n",
       "      <td>7.022868</td>\n",
       "      <td>8.720281</td>\n",
       "    </tr>\n",
       "    <tr>\n",
       "      <th>3</th>\n",
       "      <td>578</td>\n",
       "      <td>-9</td>\n",
       "      <td>16246.000000</td>\n",
       "      <td>5.9</td>\n",
       "      <td>-25.700001</td>\n",
       "      <td>-21</td>\n",
       "      <td>1</td>\n",
       "      <td>0</td>\n",
       "      <td>0</td>\n",
       "      <td>0</td>\n",
       "      <td>6.359574</td>\n",
       "      <td>9.695602</td>\n",
       "    </tr>\n",
       "    <tr>\n",
       "      <th>4</th>\n",
       "      <td>1368</td>\n",
       "      <td>7</td>\n",
       "      <td>21783.199219</td>\n",
       "      <td>13.8</td>\n",
       "      <td>-3.000000</td>\n",
       "      <td>56</td>\n",
       "      <td>1</td>\n",
       "      <td>0</td>\n",
       "      <td>0</td>\n",
       "      <td>0</td>\n",
       "      <td>7.221105</td>\n",
       "      <td>9.988894</td>\n",
       "    </tr>\n",
       "  </tbody>\n",
       "</table>\n",
       "</div>"
      ],
      "text/plain": [
       "   salary  pcsalary         sales   roe       pcroe  ros  indus  finance  \\\n",
       "0    1095        20  27595.000000  14.1  106.400002  191      1        0   \n",
       "1    1001        32   9958.000000  10.9  -30.600000   13      1        0   \n",
       "2    1122         9   6125.899902  23.5  -16.299999   14      1        0   \n",
       "3     578        -9  16246.000000   5.9  -25.700001  -21      1        0   \n",
       "4    1368         7  21783.199219  13.8   -3.000000   56      1        0   \n",
       "\n",
       "   consprod  utility   lsalary     lsales  \n",
       "0         0        0  6.998509  10.225389  \n",
       "1         0        0  6.908755   9.206132  \n",
       "2         0        0  7.022868   8.720281  \n",
       "3         0        0  6.359574   9.695602  \n",
       "4         0        0  7.221105   9.988894  "
      ]
     },
     "execution_count": 80,
     "metadata": {},
     "output_type": "execute_result"
    }
   ],
   "source": [
    "Data = woo.dataWoo(\"ceosal1\")\n",
    "\n",
    "Data.head()"
   ]
  },
  {
   "cell_type": "code",
   "execution_count": 81,
   "metadata": {},
   "outputs": [
    {
     "data": {
      "text/plain": [
       "0    1095\n",
       "1    1001\n",
       "2    1122\n",
       "3     578\n",
       "4    1368\n",
       "Name: salary, dtype: int64"
      ]
     },
     "execution_count": 81,
     "metadata": {},
     "output_type": "execute_result"
    }
   ],
   "source": [
    "y = Data[\"salary\"]\n",
    "y.head()"
   ]
  },
  {
   "cell_type": "code",
   "execution_count": 82,
   "metadata": {},
   "outputs": [
    {
     "data": {
      "text/plain": [
       "0    14.1\n",
       "1    10.9\n",
       "2    23.5\n",
       "3     5.9\n",
       "4    13.8\n",
       "Name: roe, dtype: float64"
      ]
     },
     "execution_count": 82,
     "metadata": {},
     "output_type": "execute_result"
    }
   ],
   "source": [
    "x = Data[\"roe\"]\n",
    "x.head()"
   ]
  },
  {
   "cell_type": "markdown",
   "metadata": {},
   "source": [
    "Para comprender los datos es una buena practica visualizar los datos en una gráfica"
   ]
  },
  {
   "cell_type": "code",
   "execution_count": 83,
   "metadata": {},
   "outputs": [
    {
     "data": {
      "text/plain": [
       "Text(0.5, 1.0, 'Salary VS ROE')"
      ]
     },
     "execution_count": 83,
     "metadata": {},
     "output_type": "execute_result"
    },
    {
     "data": {
      "image/png": "[encoded data removed]",
      "text/plain": [
       "<Figure size 432x288 with 1 Axes>"
      ]
     },
     "metadata": {
      "needs_background": "light"
     },
     "output_type": "display_data"
    }
   ],
   "source": [
    "PLOT = plt.subplot()\n",
    "PLOT.scatter(x=x, y=y)\n",
    "PLOT.set_ylabel(\"Salary\")\n",
    "PLOT.set_xlabel(\"ROE\")\n",
    "PLOT.set_title(\"Salary VS ROE\")"
   ]
  },
  {
   "cell_type": "markdown",
   "metadata": {},
   "source": [
    "Ahora se determinaran los coeficientes de forma uno a uno, y posteriormente de forma matricial.\n",
    "\n",
    "$$ \\hat{\\beta_1} = \\frac{\\sum(x_i-\\bar{x})(y_i-\\bar{y})}{\\sum(x_i-\\bar{x})^2} $$\n",
    "$$ \\hat{\\beta_0} = \\bar{y} - \\beta_1\\bar{x} $$\n",
    "\n",
    "Un punto importante a tomar en cuenta respecto a $\\hat{\\beta_1}$ es que:\n",
    "\n",
    "$$\\sum(x_i-\\bar{x})(y_i-\\bar{y}) = COV(x,y)$$\n",
    "\n",
    "$$\\sum(x_i-\\bar{x})^2 = VAR(x)$$\n",
    "\n",
    "$$ \\hat{\\beta_1} = \\frac{COV(x,y)}{VAR(x)}$$\n",
    "\n",
    "Entonces ya solo queda calcular\n",
    "\n",
    "$$ \\hat{\\beta_0} = \\bar{y} - \\beta_1\\bar{x} $$"
   ]
  },
  {
   "cell_type": "code",
   "execution_count": 84,
   "metadata": {},
   "outputs": [
    {
     "name": "stdout",
     "output_type": "stream",
     "text": [
      "Beta_1 = 18.50119\n"
     ]
    }
   ],
   "source": [
    "# La forma simple\n",
    "\n",
    "COV_XY = np.cov(x,y)[0,1] # Se hace de esta forma ya que 'np.cov' da la matriz var-covar\n",
    "VAR_X = np.var(x, ddof=1) # ddof es la corrección de grados de libertad\n",
    "\n",
    "Beta_1 = COV_XY / VAR_X\n",
    "\n",
    "\n",
    "print(f'Beta_1 = {round(Beta_1,ndigits=5)}')"
   ]
  },
  {
   "cell_type": "code",
   "execution_count": 85,
   "metadata": {},
   "outputs": [
    {
     "name": "stdout",
     "output_type": "stream",
     "text": [
      "Beta_0 = 963.1913\n"
     ]
    }
   ],
   "source": [
    "y_mean = np.mean(y)\n",
    "x_mean = np.mean(x)\n",
    "\n",
    "Beta_0 = y_mean - Beta_1 * x_mean\n",
    "\n",
    "print(f'Beta_0 = {round(Beta_0,ndigits=4)}')"
   ]
  },
  {
   "cell_type": "code",
   "execution_count": 86,
   "metadata": {},
   "outputs": [
    {
     "name": "stdout",
     "output_type": "stream",
     "text": [
      "Beta_1 = 18.50119\n",
      "Beta_0 = 963.1913\n"
     ]
    }
   ],
   "source": [
    "# La forma mas intensa\n",
    "\n",
    "def variance(lst):\n",
    "    m = sum(lst) / len(lst)\n",
    "    return sum((xi - m) ** 2 for xi in lst) / (len(lst) - 1)\n",
    "\n",
    "def covariance(x, y):\n",
    "    mean_x, mean_y = sum(x) / len(x), sum(y) / len(y)\n",
    "    cov = sum((x[i] - mean_x) * (y[i] - mean_y) for i in range(len(x)))\n",
    "    return cov / (len(x) - 1)\n",
    "\n",
    "COV_XY = covariance(x, y)\n",
    "VAR_X = variance(x)\n",
    "\n",
    "Beta_1 = COV_XY / VAR_X\n",
    "print(f'Beta_1 = {round(Beta_1, ndigits=5)}')\n",
    "\n",
    "y_mean = sum(y) / len(y)\n",
    "x_mean = sum(x) / len(x)\n",
    "\n",
    "Beta_0 = y_mean - Beta_1 * x_mean\n",
    "print(f'Beta_0 = {round(Beta_0, ndigits=4)}')"
   ]
  },
  {
   "cell_type": "markdown",
   "metadata": {},
   "source": [
    "De forma matricial se puede calcular de la siguiente forma:\n",
    "\n",
    "$$ \\bold{\\hat{\\beta}} = (X^TX)^-1X^Ty"
   ]
  },
  {
   "cell_type": "code",
   "execution_count": 103,
   "metadata": {},
   "outputs": [
    {
     "name": "stdout",
     "output_type": "stream",
     "text": [
      "Los valores del vector de beta son Beta_0:[963.19133647] y Beta_1:[18.50118635]\n"
     ]
    }
   ],
   "source": [
    "# La forma matricial\n",
    "\n",
    "def calcular_beta(X, y):\n",
    "\n",
    "    X = X.values\n",
    "    X = np.column_stack([np.ones(X.shape[0]), X]) # vector intercepto = zeros()\n",
    "\n",
    "    y = y.values\n",
    "\n",
    "    # Asegurarse de que X sea una matriz bidimensional\n",
    "    if X.ndim == 1:\n",
    "          X = X.reshape(-1, 1)\n",
    "    if y.ndim == 1:\n",
    "          y = y.reshape(-1, 1)# o X = X[:, np.newaxis]\n",
    "\n",
    "    # Calculamos la matriz transpuesta de X\n",
    "    X_transpuesta = np.transpose(X)\n",
    "\n",
    "    # Calculamos X^T * X\n",
    "    XTX = np.dot(X_transpuesta, X)\n",
    "\n",
    "    # Calculamos la inversa de X^T * X\n",
    "    XTX_inversa = np.linalg.inv(XTX)\n",
    "\n",
    "    # Calculamos X^T * y\n",
    "    XTy = np.dot(X_transpuesta, y)\n",
    "\n",
    "    # Finalmente, calculamos el vector beta\n",
    "    beta = np.dot(XTX_inversa, XTy)\n",
    "\n",
    "    return beta\n",
    "\n",
    "Beta_0_1 = calcular_beta(X=x, y=y)\n",
    "\n",
    "print(f\"Los valores del vector de beta son Beta_0:{Beta_0_1[0]} y Beta_1:{Beta_0_1[1]}\")"
   ]
  },
  {
   "cell_type": "code",
   "execution_count": 88,
   "metadata": {},
   "outputs": [
    {
     "data": {
      "image/png": "[encoded data removed]",
      "text/plain": [
       "<Figure size 432x288 with 1 Axes>"
      ]
     },
     "metadata": {
      "needs_background": "light"
     },
     "output_type": "display_data"
    }
   ],
   "source": [
    "# Predicciones basadas en la línea de regresión\n",
    "y_pred = [Beta_0 + Beta_1 * xi for xi in x]\n",
    "\n",
    "# Gráfico\n",
    "plt.scatter(x, y, color='blue', label='Datos observados')  # Puntos observados\n",
    "plt.plot(x, y_pred, color='red', label='Línea de regresión')  # Línea de regresión\n",
    "plt.title('Gráfico de dispersión y línea de regresión')\n",
    "plt.xlabel('ROE')\n",
    "plt.ylabel('Salary')\n",
    "plt.legend()\n",
    "plt.show()"
   ]
  },
  {
   "cell_type": "markdown",
   "metadata": {},
   "source": [
    "## Interpretación de los Coeficientes:\n",
    "El coeficiente representa el cambio en la variable dependiente por una unidad de cambio en la variable independiente, manteniendo constantes otras variables. En este caso, el coeficiente para ROE indica cuánto cambia el salario del CEO por cada punto porcentual de cambio en el ROE. Es importante notar que la significancia y relevancia de este coeficiente deben ser evaluadas en el contexto económico y empresarial."
   ]
  },
  {
   "cell_type": "markdown",
   "metadata": {},
   "source": [
    "## Bondad de ajuste\n",
    "\n",
    "$$ R^2 = 1 - \\frac{SS_{RES}}{SS_{TOT}} = \\frac{Variabilidad Explicada}{Variabilidad Total} = \\frac{\\sum(y_i - \\hat{y_i})^2}{\\sum(y_i - \\bar{y_i})^2} $$\n",
    "\n",
    "y de forma matricial\n",
    "\n",
    "$$ R^2 = \\frac{Variabilidad Explicada}{Variabilidad Total} = 1 - \\bold{\\frac{e^Te}{y^Ty-n\\bar{y}^2}} $$\n",
    "\n",
    "Donde:\n",
    "\n",
    "$\\bold{e}$ es el vector de residuos.\n",
    "\n",
    "$\\bold{y}$ es el vector de las respuestas observadas.\n",
    "\n",
    "$\\bold{n}$ es el número de observaciones.\n",
    "\n",
    "$\\bold{y}$ es la media de las respuestas observadas.\n",
    "\n"
   ]
  },
  {
   "cell_type": "code",
   "execution_count": 89,
   "metadata": {},
   "outputs": [
    {
     "name": "stdout",
     "output_type": "stream",
     "text": [
      "El R^2 de este modelo es: 0.9868\n"
     ]
    }
   ],
   "source": [
    "SS_RES = sum((y - y_pred)**2)\n",
    "SS_TOT = sum((y - y_mean)**2)\n",
    "\n",
    "R2 = SS_RES / SS_TOT\n",
    "\n",
    "print(f'El R^2 de este modelo es: {round(R2,ndigits=4)}')"
   ]
  },
  {
   "cell_type": "markdown",
   "metadata": {},
   "source": [
    "## $R^2$ Adjusted\n",
    "\n",
    "El coeficiente de determinación ajustado ($R^2_{ajustado}$ ) es una versión modificada del coeficiente de determinación ($R^2$) que toma en cuenta el número de variables predictoras o características utilizadas en el modelo de regresión. Mientras que el $R^2$ simplemente indica la proporción de la variabilidad total de la variable dependiente ($y$) que es explicada por el modelo, el $R^2$ ajustado tiene en cuenta el número de variables predictoras en el modelo y penaliza el uso de variables adicionales que pueden no aportar significativamente a la explicación de la variabilidad.\n",
    "\n",
    "$$R^2_{adjustado} = \\frac{1 - (1 - R^2) * (n - 1)}{(n - k - 1)}$$\n",
    "\n",
    "Donde:\n",
    "\n",
    "- $R^2$ es el coeficiente de determinación ($R^2$) calculado previamente.\n",
    "- $n$ es el número de observaciones (tamaño del conjunto de datos).\n",
    "- $k$ es el número de variables predictoras (número de características) en el modelo.\n",
    "\n",
    "\n",
    "El $R^2_{ajustado}$ es siempre menor o igual que el $R^2$. Si el número de variables predictoras es pequeño o las variables tienen un impacto significativo en la explicación de la variabilidad, el $R^2$ ajustado no será muy diferente del $R^2$. Sin embargo, cuando el número de variables predictoras aumenta y algunas de ellas no son relevantes para el modelo, el R^2 ajustado penaliza ese uso innecesario y tiende a ser más bajo que el $R^2$.\n",
    "\n",
    "\n",
    "\n",
    "Y se calculara de la siguiente forma:"
   ]
  },
  {
   "cell_type": "code",
   "execution_count": 112,
   "metadata": {},
   "outputs": [
    {
     "name": "stdout",
     "output_type": "stream",
     "text": [
      "El R^2 de este modelo es: 0.9868\n",
      "El R^2 ajustado de este modelo es: 0.9867\n"
     ]
    }
   ],
   "source": [
    "#Función que realiza los procesos de R^2_Adj\n",
    "\n",
    "def calcular_r_cuadrado_ajustado(y, y_pred, R2, k):\n",
    "    n = len(y)\n",
    "    k = k\n",
    "    r_cuadrado = R2\n",
    "    r_cuadrado_ajustado = 1 - (1 - r_cuadrado) * (n - 1) / (n - k - 1)\n",
    "    return r_cuadrado_ajustado\n",
    "\n",
    "r_cuadrado_ajustado = calcular_r_cuadrado_ajustado(y, y_pred, R2, k=1)\n",
    "\n",
    "print(f'El R^2 de este modelo es: {round(R2,ndigits=4)}')\n",
    "print(f'El R^2 ajustado de este modelo es: {round(r_cuadrado_ajustado,ndigits=4)}')\n"
   ]
  }
 ],
 "metadata": {
  "kernelspec": {
   "display_name": "Python 3",
   "language": "python",
   "name": "python3"
  },
  "language_info": {
   "codemirror_mode": {
    "name": "ipython",
    "version": 3
   },
   "file_extension": ".py",
   "mimetype": "text/x-python",
   "name": "python",
   "nbconvert_exporter": "python",
   "pygments_lexer": "ipython3",
   "version": "3.10.5"
  },
  "orig_nbformat": 4
 },
 "nbformat": 4,
 "nbformat_minor": 2
}
