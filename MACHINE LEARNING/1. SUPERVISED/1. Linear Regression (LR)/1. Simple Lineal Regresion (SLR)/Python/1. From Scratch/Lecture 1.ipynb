{
 "cells": [
  {
   "cell_type": "markdown",
   "metadata": {},
   "source": [
    "# La regresion lineal simple  \n",
    "Para esta practica se utilizara del libro de Econometria de Wooldridge el modelo **\"CEO Salary and Return on Equity\"**. Donde se propone la siguiente ecuación:\n",
    "\n",
    "$$Salary = \\beta_0 + \\beta_1 \\cdot ROE + \\epsilon$$\n",
    "\n",
    "Ya que se pretende hacer sin ninguna librería que realice los cálculos matemáticos de forma automático se deben de importar de forma minima las siguientes librerías: *numpy, pandas y matplotlib.pyplot(para realizar las gráficas, no para cálculos)*.\n",
    "\n",
    "Se deben de obtener los siguientes resultados para poder aceptar la forma en que se realizaron los cálculos\n",
    "\n",
    "$$\\widehat{Salary} = 963.1913 + 18.50119 \\cdot ROE + \\epsilon$$\n",
    "\n",
    "Es decir\n",
    "\n",
    "$$\\hat{\\beta_0} = 963.1913$$\n",
    "$$\\hat{\\beta_1} = 18.50119$$"
   ]
  },
  {
   "cell_type": "code",
   "execution_count": 1,
   "metadata": {},
   "outputs": [],
   "source": [
    "import numpy as np\n",
    "import pandas as pd\n",
    "import matplotlib.pyplot as plt"
   ]
  },
  {
   "cell_type": "markdown",
   "metadata": {},
   "source": [
    "Para poder descargar los datos de Wooldridge se usara la librería \"wooldridge\""
   ]
  },
  {
   "cell_type": "code",
   "execution_count": 2,
   "metadata": {},
   "outputs": [],
   "source": [
    "import wooldridge as woo"
   ]
  },
  {
   "cell_type": "markdown",
   "metadata": {},
   "source": [
    "De la siguiente forma se obtiene la base de datos y posteriormente se separan las variables según corresponde"
   ]
  },
  {
   "cell_type": "code",
   "execution_count": 3,
   "metadata": {},
   "outputs": [
    {
     "data": {
      "text/html": [
       "<div>\n",
       "<style scoped>\n",
       "    .dataframe tbody tr th:only-of-type {\n",
       "        vertical-align: middle;\n",
       "    }\n",
       "\n",
       "    .dataframe tbody tr th {\n",
       "        vertical-align: top;\n",
       "    }\n",
       "\n",
       "    .dataframe thead th {\n",
       "        text-align: right;\n",
       "    }\n",
       "</style>\n",
       "<table border=\"1\" class=\"dataframe\">\n",
       "  <thead>\n",
       "    <tr style=\"text-align: right;\">\n",
       "      <th></th>\n",
       "      <th>salary</th>\n",
       "      <th>pcsalary</th>\n",
       "      <th>sales</th>\n",
       "      <th>roe</th>\n",
       "      <th>pcroe</th>\n",
       "      <th>ros</th>\n",
       "      <th>indus</th>\n",
       "      <th>finance</th>\n",
       "      <th>consprod</th>\n",
       "      <th>utility</th>\n",
       "      <th>lsalary</th>\n",
       "      <th>lsales</th>\n",
       "    </tr>\n",
       "  </thead>\n",
       "  <tbody>\n",
       "    <tr>\n",
       "      <th>0</th>\n",
       "      <td>1095</td>\n",
       "      <td>20</td>\n",
       "      <td>27595.000000</td>\n",
       "      <td>14.1</td>\n",
       "      <td>106.400002</td>\n",
       "      <td>191</td>\n",
       "      <td>1</td>\n",
       "      <td>0</td>\n",
       "      <td>0</td>\n",
       "      <td>0</td>\n",
       "      <td>6.998509</td>\n",
       "      <td>10.225389</td>\n",
       "    </tr>\n",
       "    <tr>\n",
       "      <th>1</th>\n",
       "      <td>1001</td>\n",
       "      <td>32</td>\n",
       "      <td>9958.000000</td>\n",
       "      <td>10.9</td>\n",
       "      <td>-30.600000</td>\n",
       "      <td>13</td>\n",
       "      <td>1</td>\n",
       "      <td>0</td>\n",
       "      <td>0</td>\n",
       "      <td>0</td>\n",
       "      <td>6.908755</td>\n",
       "      <td>9.206132</td>\n",
       "    </tr>\n",
       "    <tr>\n",
       "      <th>2</th>\n",
       "      <td>1122</td>\n",
       "      <td>9</td>\n",
       "      <td>6125.899902</td>\n",
       "      <td>23.5</td>\n",
       "      <td>-16.299999</td>\n",
       "      <td>14</td>\n",
       "      <td>1</td>\n",
       "      <td>0</td>\n",
       "      <td>0</td>\n",
       "      <td>0</td>\n",
       "      <td>7.022868</td>\n",
       "      <td>8.720281</td>\n",
       "    </tr>\n",
       "    <tr>\n",
       "      <th>3</th>\n",
       "      <td>578</td>\n",
       "      <td>-9</td>\n",
       "      <td>16246.000000</td>\n",
       "      <td>5.9</td>\n",
       "      <td>-25.700001</td>\n",
       "      <td>-21</td>\n",
       "      <td>1</td>\n",
       "      <td>0</td>\n",
       "      <td>0</td>\n",
       "      <td>0</td>\n",
       "      <td>6.359574</td>\n",
       "      <td>9.695602</td>\n",
       "    </tr>\n",
       "    <tr>\n",
       "      <th>4</th>\n",
       "      <td>1368</td>\n",
       "      <td>7</td>\n",
       "      <td>21783.199219</td>\n",
       "      <td>13.8</td>\n",
       "      <td>-3.000000</td>\n",
       "      <td>56</td>\n",
       "      <td>1</td>\n",
       "      <td>0</td>\n",
       "      <td>0</td>\n",
       "      <td>0</td>\n",
       "      <td>7.221105</td>\n",
       "      <td>9.988894</td>\n",
       "    </tr>\n",
       "  </tbody>\n",
       "</table>\n",
       "</div>"
      ],
      "text/plain": [
       "   salary  pcsalary         sales   roe       pcroe  ros  indus  finance  \\\n",
       "0    1095        20  27595.000000  14.1  106.400002  191      1        0   \n",
       "1    1001        32   9958.000000  10.9  -30.600000   13      1        0   \n",
       "2    1122         9   6125.899902  23.5  -16.299999   14      1        0   \n",
       "3     578        -9  16246.000000   5.9  -25.700001  -21      1        0   \n",
       "4    1368         7  21783.199219  13.8   -3.000000   56      1        0   \n",
       "\n",
       "   consprod  utility   lsalary     lsales  \n",
       "0         0        0  6.998509  10.225389  \n",
       "1         0        0  6.908755   9.206132  \n",
       "2         0        0  7.022868   8.720281  \n",
       "3         0        0  6.359574   9.695602  \n",
       "4         0        0  7.221105   9.988894  "
      ]
     },
     "execution_count": 3,
     "metadata": {},
     "output_type": "execute_result"
    }
   ],
   "source": [
    "Data = woo.dataWoo(\"ceosal1\")\n",
    "\n",
    "Data.head()"
   ]
  },
  {
   "cell_type": "code",
   "execution_count": 4,
   "metadata": {},
   "outputs": [
    {
     "data": {
      "text/plain": [
       "0    1095\n",
       "1    1001\n",
       "2    1122\n",
       "3     578\n",
       "4    1368\n",
       "Name: salary, dtype: int64"
      ]
     },
     "execution_count": 4,
     "metadata": {},
     "output_type": "execute_result"
    }
   ],
   "source": [
    "y = Data[\"salary\"]\n",
    "y.head()"
   ]
  },
  {
   "cell_type": "code",
   "execution_count": 5,
   "metadata": {},
   "outputs": [
    {
     "data": {
      "text/plain": [
       "0    14.1\n",
       "1    10.9\n",
       "2    23.5\n",
       "3     5.9\n",
       "4    13.8\n",
       "Name: roe, dtype: float64"
      ]
     },
     "execution_count": 5,
     "metadata": {},
     "output_type": "execute_result"
    }
   ],
   "source": [
    "x = Data[\"roe\"]\n",
    "x.head()"
   ]
  },
  {
   "cell_type": "markdown",
   "metadata": {},
   "source": [
    "Ahora se determinaran los coeficientes de forma uno a uno, y posteriormente de forma matricial.\n",
    "\n",
    "$$ \\hat{\\beta_1} = \\frac{\\sum(x_i-\\bar{x})(y_i-\\bar{y})}{\\sum(x_i-\\bar{x})^2} $$\n",
    "$$ \\hat{\\beta_0} = \\bar{y} - \\beta_1\\bar{x} $$\n",
    "\n",
    "Un punto importante a tomar en cuenta respecto a $\\hat{\\beta_1}$ es que:\n",
    "\n",
    "$$\\sum(x_i-\\bar{x})(y_i-\\bar{y}) = COV(x,y)$$\n",
    "\n",
    "$$\\sum(x_i-\\bar{x})^2 = VAR(x)$$\n",
    "\n",
    "$$ \\hat{\\beta_1} = \\frac{COV(x,y)}{VAR(x)}$$\n",
    "\n",
    "Entonces ya solo queda calcular\n",
    "\n",
    "$$ \\hat{\\beta_0} = \\bar{y} - \\beta_1\\bar{x} $$"
   ]
  },
  {
   "cell_type": "code",
   "execution_count": 6,
   "metadata": {},
   "outputs": [
    {
     "name": "stdout",
     "output_type": "stream",
     "text": [
      "Beta_1 = 18.50119\n"
     ]
    }
   ],
   "source": [
    "# La forma simple\n",
    "\n",
    "COV_XY = np.cov(x,y)[0,1] # Se hace de esta forma ya que 'np.cov' da la matriz var-covar\n",
    "VAR_X = np.var(x, ddof=1) # ddof es la corrección de grados de libertad\n",
    "\n",
    "Beta_1 = COV_XY / VAR_X\n",
    "\n",
    "\n",
    "print(f'Beta_1 = {round(Beta_1,ndigits=5)}')"
   ]
  },
  {
   "cell_type": "code",
   "execution_count": 7,
   "metadata": {},
   "outputs": [
    {
     "name": "stdout",
     "output_type": "stream",
     "text": [
      "Beta_0 = 963.1913\n"
     ]
    }
   ],
   "source": [
    "y_mean = np.mean(y)\n",
    "x_mean = np.mean(x)\n",
    "\n",
    "Beta_0 = y_mean - Beta_1 * x_mean\n",
    "\n",
    "print(f'Beta_0 = {round(Beta_0,ndigits=4)}')"
   ]
  },
  {
   "cell_type": "code",
   "execution_count": 8,
   "metadata": {},
   "outputs": [
    {
     "name": "stdout",
     "output_type": "stream",
     "text": [
      "Beta_1 = 18.50119\n",
      "Beta_0 = 963.1913\n"
     ]
    }
   ],
   "source": [
    "# La forma mas intensa\n",
    "\n",
    "def variance(lst):\n",
    "    m = sum(lst) / len(lst)\n",
    "    return sum((xi - m) ** 2 for xi in lst) / (len(lst) - 1)\n",
    "\n",
    "def covariance(x, y):\n",
    "    mean_x, mean_y = sum(x) / len(x), sum(y) / len(y)\n",
    "    cov = sum((x[i] - mean_x) * (y[i] - mean_y) for i in range(len(x)))\n",
    "    return cov / (len(x) - 1)\n",
    "\n",
    "COV_XY = covariance(x, y)\n",
    "VAR_X = variance(x)\n",
    "\n",
    "Beta_1 = COV_XY / VAR_X\n",
    "print(f'Beta_1 = {round(Beta_1, ndigits=5)}')\n",
    "\n",
    "y_mean = sum(y) / len(y)\n",
    "x_mean = sum(x) / len(x)\n",
    "\n",
    "Beta_0 = y_mean - Beta_1 * x_mean\n",
    "print(f'Beta_0 = {round(Beta_0, ndigits=4)}')"
   ]
  }
 ],
 "metadata": {
  "kernelspec": {
   "display_name": "Python 3",
   "language": "python",
   "name": "python3"
  },
  "language_info": {
   "codemirror_mode": {
    "name": "ipython",
    "version": 3
   },
   "file_extension": ".py",
   "mimetype": "text/x-python",
   "name": "python",
   "nbconvert_exporter": "python",
   "pygments_lexer": "ipython3",
   "version": "3.10.5"
  },
  "orig_nbformat": 4
 },
 "nbformat": 4,
 "nbformat_minor": 2
}
