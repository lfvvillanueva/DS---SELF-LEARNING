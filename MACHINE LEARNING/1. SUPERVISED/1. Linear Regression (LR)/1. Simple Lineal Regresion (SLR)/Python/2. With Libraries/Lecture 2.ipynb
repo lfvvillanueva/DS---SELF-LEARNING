{
 "cells": [
  {
   "cell_type": "markdown",
   "metadata": {},
   "source": [
    "# La regresión lineal simple\n",
    "\n",
    "En Python, hay varias bibliotecas que te permiten realizar una regresión lineal. A continuación, te menciono algunas de las librerías más populares:\n",
    "\n",
    "1. **NumPy**: NumPy es una biblioteca fundamental para operaciones numéricas en Python. Puede ser utilizada para implementar regresión lineal simple y múltiple, así como otras técnicas de análisis numérico.\n",
    "\n",
    "2. **SciPy**: SciPy es una extensión de NumPy y ofrece muchas más funcionalidades para ciencias e ingeniería. Incluye funciones para realizar regresiones lineales y no lineales.\n",
    "\n",
    "3. **scikit-learn**: Es una biblioteca de aprendizaje automático (machine learning) que contiene muchas herramientas para tareas de minería de datos. Proporciona una implementación fácil y rápida de regresión lineal y otros modelos de aprendizaje automático.\n",
    "\n",
    "4. **statsmodels**: Esta biblioteca se enfoca en estadísticas y ofrece una gran cantidad de herramientas para el análisis de datos. Proporciona una interfaz más completa para realizar análisis de regresión lineal con más detalles estadísticos.\n",
    "\n",
    "5. **TensorFlow y Keras**: Estas bibliotecas son ampliamente utilizadas para el aprendizaje profundo (deep learning), pero también se pueden utilizar para realizar regresiones lineales.\n",
    "\n",
    "6. **PyTorch**: Al igual que TensorFlow y Keras, PyTorch es una biblioteca de aprendizaje profundo que también puede usarse para tareas de regresión lineal.\n",
    "\n",
    "Para la mayoría de las tareas sencillas de regresión lineal, scikit-learn y statsmodels son las bibliotecas más populares debido a su facilidad de uso y ricas funcionalidades. Si buscas algo más específico para análisis estadístico, statsmodels puede ser más adecuado, mientras que scikit-learn es más versátil para tareas de aprendizaje automático en general. NumPy y SciPy son útiles para aquellos que deseen implementar directamente el algoritmo de regresión lineal desde cero o para tareas numéricas más generales. TensorFlow, Keras y PyTorch son más apropiados para casos donde se requiere el uso de técnicas de aprendizaje profundo además de la regresión lineal.\n",
    "\n",
    "Para este ejercicio se decidió usar statsmodels por su comodidad en la forma de presentación de los resultados de forma conjunta como lo hacen otros softwares especializados como STATA, etc..."
   ]
  },
  {
   "cell_type": "code",
   "execution_count": 8,
   "metadata": {},
   "outputs": [],
   "source": [
    "import numpy as np\n",
    "import pandas as pd\n",
    "import matplotlib.pyplot as plt\n",
    "\n",
    "#Se importa statsmodels\n",
    "\n",
    "import statsmodels.api as sm\n",
    "import statsmodels.formula.api as smf"
   ]
  },
  {
   "cell_type": "markdown",
   "metadata": {},
   "source": [
    "Para poder descargar los datos de Wooldridge se usara la librería \"wooldridge\""
   ]
  },
  {
   "cell_type": "code",
   "execution_count": 2,
   "metadata": {},
   "outputs": [],
   "source": [
    "import wooldridge as woo"
   ]
  },
  {
   "cell_type": "markdown",
   "metadata": {},
   "source": [
    "De la siguiente forma se obtiene la base de datos y posteriormente se separan las variables según corresponde"
   ]
  },
  {
   "cell_type": "code",
   "execution_count": 3,
   "metadata": {},
   "outputs": [
    {
     "data": {
      "text/html": [
       "<div>\n",
       "<style scoped>\n",
       "    .dataframe tbody tr th:only-of-type {\n",
       "        vertical-align: middle;\n",
       "    }\n",
       "\n",
       "    .dataframe tbody tr th {\n",
       "        vertical-align: top;\n",
       "    }\n",
       "\n",
       "    .dataframe thead th {\n",
       "        text-align: right;\n",
       "    }\n",
       "</style>\n",
       "<table border=\"1\" class=\"dataframe\">\n",
       "  <thead>\n",
       "    <tr style=\"text-align: right;\">\n",
       "      <th></th>\n",
       "      <th>salary</th>\n",
       "      <th>pcsalary</th>\n",
       "      <th>sales</th>\n",
       "      <th>roe</th>\n",
       "      <th>pcroe</th>\n",
       "      <th>ros</th>\n",
       "      <th>indus</th>\n",
       "      <th>finance</th>\n",
       "      <th>consprod</th>\n",
       "      <th>utility</th>\n",
       "      <th>lsalary</th>\n",
       "      <th>lsales</th>\n",
       "    </tr>\n",
       "  </thead>\n",
       "  <tbody>\n",
       "    <tr>\n",
       "      <th>0</th>\n",
       "      <td>1095</td>\n",
       "      <td>20</td>\n",
       "      <td>27595.000000</td>\n",
       "      <td>14.1</td>\n",
       "      <td>106.400002</td>\n",
       "      <td>191</td>\n",
       "      <td>1</td>\n",
       "      <td>0</td>\n",
       "      <td>0</td>\n",
       "      <td>0</td>\n",
       "      <td>6.998509</td>\n",
       "      <td>10.225389</td>\n",
       "    </tr>\n",
       "    <tr>\n",
       "      <th>1</th>\n",
       "      <td>1001</td>\n",
       "      <td>32</td>\n",
       "      <td>9958.000000</td>\n",
       "      <td>10.9</td>\n",
       "      <td>-30.600000</td>\n",
       "      <td>13</td>\n",
       "      <td>1</td>\n",
       "      <td>0</td>\n",
       "      <td>0</td>\n",
       "      <td>0</td>\n",
       "      <td>6.908755</td>\n",
       "      <td>9.206132</td>\n",
       "    </tr>\n",
       "    <tr>\n",
       "      <th>2</th>\n",
       "      <td>1122</td>\n",
       "      <td>9</td>\n",
       "      <td>6125.899902</td>\n",
       "      <td>23.5</td>\n",
       "      <td>-16.299999</td>\n",
       "      <td>14</td>\n",
       "      <td>1</td>\n",
       "      <td>0</td>\n",
       "      <td>0</td>\n",
       "      <td>0</td>\n",
       "      <td>7.022868</td>\n",
       "      <td>8.720281</td>\n",
       "    </tr>\n",
       "    <tr>\n",
       "      <th>3</th>\n",
       "      <td>578</td>\n",
       "      <td>-9</td>\n",
       "      <td>16246.000000</td>\n",
       "      <td>5.9</td>\n",
       "      <td>-25.700001</td>\n",
       "      <td>-21</td>\n",
       "      <td>1</td>\n",
       "      <td>0</td>\n",
       "      <td>0</td>\n",
       "      <td>0</td>\n",
       "      <td>6.359574</td>\n",
       "      <td>9.695602</td>\n",
       "    </tr>\n",
       "    <tr>\n",
       "      <th>4</th>\n",
       "      <td>1368</td>\n",
       "      <td>7</td>\n",
       "      <td>21783.199219</td>\n",
       "      <td>13.8</td>\n",
       "      <td>-3.000000</td>\n",
       "      <td>56</td>\n",
       "      <td>1</td>\n",
       "      <td>0</td>\n",
       "      <td>0</td>\n",
       "      <td>0</td>\n",
       "      <td>7.221105</td>\n",
       "      <td>9.988894</td>\n",
       "    </tr>\n",
       "  </tbody>\n",
       "</table>\n",
       "</div>"
      ],
      "text/plain": [
       "   salary  pcsalary         sales   roe       pcroe  ros  indus  finance  \\\n",
       "0    1095        20  27595.000000  14.1  106.400002  191      1        0   \n",
       "1    1001        32   9958.000000  10.9  -30.600000   13      1        0   \n",
       "2    1122         9   6125.899902  23.5  -16.299999   14      1        0   \n",
       "3     578        -9  16246.000000   5.9  -25.700001  -21      1        0   \n",
       "4    1368         7  21783.199219  13.8   -3.000000   56      1        0   \n",
       "\n",
       "   consprod  utility   lsalary     lsales  \n",
       "0         0        0  6.998509  10.225389  \n",
       "1         0        0  6.908755   9.206132  \n",
       "2         0        0  7.022868   8.720281  \n",
       "3         0        0  6.359574   9.695602  \n",
       "4         0        0  7.221105   9.988894  "
      ]
     },
     "execution_count": 3,
     "metadata": {},
     "output_type": "execute_result"
    }
   ],
   "source": [
    "Data = woo.dataWoo(\"ceosal1\")\n",
    "Data.head()"
   ]
  },
  {
   "cell_type": "code",
   "execution_count": 4,
   "metadata": {},
   "outputs": [
    {
     "data": {
      "text/plain": [
       "0    1095\n",
       "1    1001\n",
       "2    1122\n",
       "3     578\n",
       "4    1368\n",
       "Name: salary, dtype: int64"
      ]
     },
     "execution_count": 4,
     "metadata": {},
     "output_type": "execute_result"
    }
   ],
   "source": [
    "y = Data[\"salary\"]\n",
    "y.head()"
   ]
  },
  {
   "cell_type": "code",
   "execution_count": 5,
   "metadata": {},
   "outputs": [
    {
     "data": {
      "text/plain": [
       "0    14.1\n",
       "1    10.9\n",
       "2    23.5\n",
       "3     5.9\n",
       "4    13.8\n",
       "Name: roe, dtype: float64"
      ]
     },
     "execution_count": 5,
     "metadata": {},
     "output_type": "execute_result"
    }
   ],
   "source": [
    "x = Data[\"roe\"]\n",
    "x.head()"
   ]
  },
  {
   "cell_type": "markdown",
   "metadata": {},
   "source": [
    "Para comprender los datos es una buena practica visualizar los datos en una gráfica"
   ]
  },
  {
   "cell_type": "code",
   "execution_count": 6,
   "metadata": {},
   "outputs": [
    {
     "data": {
      "text/plain": [
       "Text(0.5, 1.0, 'Salary VS ROE')"
      ]
     },
     "execution_count": 6,
     "metadata": {},
     "output_type": "execute_result"
    },
    {
     "data": {
      "image/png": "[encoded data removed]",
      "text/plain": [
       "<Figure size 432x288 with 1 Axes>"
      ]
     },
     "metadata": {
      "needs_background": "light"
     },
     "output_type": "display_data"
    }
   ],
   "source": [
    "PLOT = plt.subplot()\n",
    "PLOT.scatter(x=x, y=y)\n",
    "PLOT.set_ylabel(\"Salary\")\n",
    "PLOT.set_xlabel(\"ROE\")\n",
    "PLOT.set_title(\"Salary VS ROE\")"
   ]
  },
  {
   "cell_type": "markdown",
   "metadata": {},
   "source": [
    "De este punto en delante el proceso se llevara a cabo con la librería Statsmodels\n"
   ]
  },
  {
   "cell_type": "code",
   "execution_count": 21,
   "metadata": {},
   "outputs": [
    {
     "name": "stdout",
     "output_type": "stream",
     "text": [
      "                            OLS Regression Results                            \n",
      "==============================================================================\n",
      "Dep. Variable:                 salary   R-squared:                       0.013\n",
      "Model:                            OLS   Adj. R-squared:                  0.008\n",
      "Method:                 Least Squares   F-statistic:                     2.767\n",
      "Date:                Sun, 23 Jul 2023   Prob (F-statistic):             0.0978\n",
      "Time:                        15:26:27   Log-Likelihood:                -1804.5\n",
      "No. Observations:                 209   AIC:                             3613.\n",
      "Df Residuals:                     207   BIC:                             3620.\n",
      "Df Model:                           1                                         \n",
      "Covariance Type:            nonrobust                                         \n",
      "==============================================================================\n",
      "                 coef    std err          t      P>|t|      [0.025      0.975]\n",
      "------------------------------------------------------------------------------\n",
      "const        963.1913    213.240      4.517      0.000     542.790    1383.592\n",
      "roe           18.5012     11.123      1.663      0.098      -3.428      40.431\n",
      "==============================================================================\n",
      "Omnibus:                      311.096   Durbin-Watson:                   2.105\n",
      "Prob(Omnibus):                  0.000   Jarque-Bera (JB):            31120.902\n",
      "Skew:                           6.915   Prob(JB):                         0.00\n",
      "Kurtosis:                      61.158   Cond. No.                         43.3\n",
      "==============================================================================\n",
      "\n",
      "Notes:\n",
      "[1] Standard Errors assume that the covariance matrix of the errors is correctly specified.\n"
     ]
    }
   ],
   "source": [
    "x = sm.add_constant(x)\n",
    "\n",
    "Mod = sm.OLS(endog= y ,exog= x)\n",
    "\n",
    "Mod_Res = Mod.fit()\n",
    "\n",
    "print(Mod_Res.summary())"
   ]
  },
  {
   "cell_type": "markdown",
   "metadata": {},
   "source": [
    "A continuación, te proporciono una interpretación detallada de cada uno de los parámetros resultantes del modelo de regresión lineal:\n",
    "\n",
    "1. **Dep. Variable (Variable dependiente)**: El nombre de la variable dependiente en el modelo. En este caso, es \"salary\", lo que indica que estamos tratando de predecir o explicar la variable \"salary\" utilizando la variable \"roe\".\n",
    "\n",
    "2. **R-squared (R^2)**: El coeficiente de determinación (R^2) es una medida que indica la proporción de la variabilidad total de la variable dependiente (\"salary\") que es explicada por el modelo. En este caso, el valor de R^2 es 0.013, lo que significa que solo aproximadamente el 1.3% de la variabilidad en \"salary\" es explicada por la variable \"roe\" en el modelo de regresión.\n",
    "\n",
    "3. **Adj. R-squared (R^2 ajustado)**: Es una versión corregida del R^2 que toma en cuenta el número de variables predictoras en el modelo. El valor de R^2 ajustado es 0.008, lo que indica que este modelo, que incluye la variable \"roe\", no mejora significativamente la capacidad de explicar la variabilidad de \"salary\" en comparación con un modelo sin variables predictoras.\n",
    "\n",
    "4. **Method (Método)**: Es el método utilizado para ajustar el modelo. En este caso, se utilizó el método de Mínimos Cuadrados Ordinarios (OLS, por sus siglas en inglés) para realizar el ajuste de la regresión lineal.\n",
    "\n",
    "5. **Date (Fecha)**: La fecha en la que se realizó el ajuste del modelo.\n",
    "\n",
    "6. **Time (Hora)**: La hora en la que se realizó el ajuste del modelo.\n",
    "\n",
    "7. **F-statistic**: La estadística F es una medida global de la significancia del modelo en su conjunto. Un valor alto de F-statistic sugiere que al menos una de las variables predictoras es significativa en la explicación de la variable dependiente. En este caso, el valor de F-statistic es 2.767.\n",
    "\n",
    "8. **Prob (F-statistic)**: Es el valor p asociado al F-statistic. En este caso, el valor p es 0.0978, lo que sugiere que el modelo no es significativo en su conjunto a un nivel de significancia del 0.05, ya que el valor p es mayor que este nivel.\n",
    "\n",
    "9. **No. Observations (Número de observaciones)**: El número de observaciones en el conjunto de datos. En este caso, hay 209 observaciones.\n",
    "\n",
    "10. **Df Residuals (Grados de libertad residuales)**: Los grados de libertad residuales representan el número de observaciones menos el número de parámetros estimados en el modelo. En este caso, hay 207 grados de libertad residuales.\n",
    "\n",
    "11. **Df Model (Grados de libertad del modelo)**: El número de variables predictoras en el modelo, que en este caso es 1 (la variable \"roe\").\n",
    "\n",
    "12. **Covariance Type (Tipo de covarianza)**: El tipo de covarianza utilizado para calcular los errores estándar. En este caso, se utilizó \"nonrobust\", lo que significa que los errores estándar no fueron ajustados para problemas de heterocedasticidad o autocorrelación.\n",
    "\n",
    "13. **const (Término constante o intercept)**: Es el coeficiente asociado al término constante (intercept) en el modelo de regresión. En este caso, el valor del coeficiente es 963.1913.\n",
    "\n",
    "14. **roe (Coeficiente de la variable predictora)**: Es el coeficiente asociado a la variable predictora \"roe\" en el modelo de regresión. En este caso, el valor del coeficiente es 18.5012.\n",
    "\n",
    "15. **std err (Error estándar)**: Representa la precisión del estimado de cada coeficiente. Un valor más pequeño indica una estimación más precisa. Los errores estándar más grandes indican mayor incertidumbre en el valor del coeficiente.\n",
    "\n",
    "16. **t (Valor t)**: Es la relación entre el coeficiente estimado y su error estándar. Se utiliza para calcular el valor p y determinar la significancia estadística de cada coeficiente. Valores de t más grandes indican que el coeficiente es más significativo.\n",
    "\n",
    "El valor t es la relación entre el coeficiente estimado y su error estándar. Se utiliza para calcular el valor p y determinar la significancia estadística de cada coeficiente. Un valor t más grande indica que el coeficiente es más significativo. En este caso, el valor t para la constante es 4.517 y para la variable \"roe\" es 1.663. Un valor t de 4.517 para la constante significa que el coeficiente es significativamente diferente de cero, lo que indica que el término constante (intercept) es significativo en el modelo. Para la variable \"roe\", el valor t de 1.663 también sugiere que el coeficiente es significativamente diferente de cero, aunque en menor medida que el término constante.\n",
    "\n",
    "17. **P>|t| (Valor p)**: Es el valor p asociado al valor t. Un valor p menor que el nivel de significancia (generalmente 0.05) indica que el coeficiente es significativo en la explicación de la variable dependiente.\n",
    "\n",
    "El valor p asociado al valor t es una medida de la significancia estadística de cada coeficiente. Un valor p menor que el nivel de significancia (generalmente 0.05) indica que el coeficiente es significativo en la explicación de la variable dependiente. En este caso, el valor p para la constante es 0.000 (muy pequeño) y para la variable \"roe\" es 0.098. Un valor p de 0.000 para la constante significa que el término constante es altamente significativo en el modelo. Para la variable \"roe\", el valor p de 0.098 es mayor que 0.05, lo que sugiere que la variable \"roe\" no es significativa a un nivel de significancia del 0.05.\n",
    "\n",
    "18. **[0.025      0.975] (Intervalo de confianza)**: Estos valores representan el intervalo de confianza del 95% para cada coeficiente. Es el rango en el que se espera que se encuentre el verdadero valor del coeficiente con un 95% de confianza.\n",
    "\n",
    "Estos valores representan el intervalo de confianza del 95% para cada coeficiente. Es el rango en el que se espera que se encuentre el verdadero valor del coeficiente con un 95% de confianza. En este caso, el intervalo de confianza para la constante es [542.790, 1383.592], lo que significa que con un 95% de confianza, se espera que el verdadero valor del coeficiente de la constante esté en ese rango. Del mismo modo, el intervalo de confianza para la variable \"roe\" es [-3.428, 40.431], lo que indica que con un 95% de confianza, se espera que el verdadero valor del coeficiente de la variable \"roe\" esté en ese rango.\n",
    "\n",
    "19. **Omnibus**: Es una prueba estadística para la normalidad de los residuos. Un valor pequeño de este estadístico sugiere que los residuos no siguen una distribución normal.\n",
    "\n",
    "La prueba estadística Omnibus evalúa la normalidad de los residuos. Un valor pequeño de este estadístico sugiere que los residuos no siguen una distribución normal. En este caso, el valor de Omnibus es 311.096, lo que indica que los residuos no siguen una distribución normal.\n",
    "\n",
    "20. **Prob(Omnibus)**: Es el valor p asociado al estadístico Omnibus. Valores bajos sugieren que los residuos no siguen una distribución normal.\n",
    "\n",
    "Es el valor p asociado al estadístico Omnibus. Valores bajos sugieren que los residuos no siguen una distribución normal. En este caso, el valor p asociado al estadístico Omnibus es 0.000 (muy pequeño), lo que refuerza la evidencia de que los residuos no siguen una distribución normal.\n",
    "\n",
    "21. **Jarque-Bera (JB)**: Es otra prueba de normalidad de los residuos. Un valor alto de este estadístico indica desviación de la normalidad.\n",
    "\n",
    "El estadístico Jarque-Bera es otra prueba de normalidad de los residuos. Un valor alto de este estadístico indica desviación de la normalidad. En este caso, el valor de Jarque-Bera es 31120.902, lo que sugiere una fuerte desviación de la normalidad de los residuos.\n",
    "\n",
    "22. **Prob(JB)**: Es el valor p asociado al estadístico Jarque-Bera.\n",
    "\n",
    "Es el valor p asociado al estadístico Jarque-Bera. Valores bajos sugieren una desviación significativa de la normalidad de los residuos. En este caso, el valor p asociado al estadístico Jarque-Bera es 0.000 (muy pequeño), lo que refuerza la evidencia de una desviación significativa de la normalidad de los residuos.\n",
    "\n",
    "23. **Skew (Sesgo)**: Representa el sesgo de los residuos. Un valor cercano a cero indica que los residuos tienen simetría.\n",
    "\n",
    "Es el valor p asociado al estadístico Jarque-Bera. Valores bajos sugieren una desviación significativa de la normalidad de los residuos. En este caso, el valor p asociado al estadístico Jarque-Bera es 0.000 (muy pequeño), lo que refuerza la evidencia de una desviación significativa de la normalidad de los residuos.\n",
    "\n",
    "24. **Kurtosis**: Representa la curtosis (apuntamiento) de los residuos. Un valor alto indica que los residuos tienen colas pesadas.\n",
    "\n",
    "La curtosis representa la concentración de los residuos en torno a la media. Un valor alto indica que los residuos tienen colas pesadas. En este caso, el valor de curtosis es 61.158, lo que sugiere que los residuos tienen colas pesadas y una distribución muy apuntada.\n",
    "\n",
    "25. **Cond. No. (Número de condición)**: Es una medida de multicolinealidad. Valores altos indican alta multicolinealidad en el modelo.\n",
    "\n",
    "El número de condición es una medida de multicolinealidad. Valores altos indican alta multicolinealidad en el modelo. En este caso, el valor de número de condición es 43.3, lo que sugiere que no hay problemas de multicolinealidad en el modelo.\n",
    "\n",
    "*En resumen, estos resultados estadísticos te proporcionan información sobre la significancia de cada coeficiente en el modelo de regresión, la calidad de ajuste y la normalidad de los residuos. Es importante prestar especial atención a los valores de significancia (valor p) y el intervalo de confianza para determinar la importancia y precisión de cada coeficiente en la explicación de la variable dependiente. También, los resultados de normalidad y multicolinealidad son útiles para evaluar la validez del modelo. En este caso, parece que el modelo tiene problemas de normalidad y los coeficientes de la variable \"roe\" no son significativos a un nivel de significancia del 0.05.*\n",
    "\n",
    "En resumen, el modelo de regresión muestra el ajuste y las características estadísticas del modelo, incluidos los coeficientes, errores estándar, valores t y valores p para cada variable predictora. También proporciona información sobre la calidad del ajuste y la significancia global del modelo. Además, se presentan pruebas de normalidad y multicolinealidad de los residuos. Es importante considerar la significancia estadística de los coeficientes y la calidad del ajuste al interpretar los resultados del modelo."
   ]
  },
  {
   "cell_type": "code",
   "execution_count": 27,
   "metadata": {},
   "outputs": [
    {
     "data": {
      "image/png": "[encoded data removed]",
      "text/plain": [
       "<Figure size 432x288 with 1 Axes>"
      ]
     },
     "metadata": {
      "needs_background": "light"
     },
     "output_type": "display_data"
    }
   ],
   "source": [
    "# Obtener los coeficientes del modelo ajustado\n",
    "coef_constante, coef_roe = Mod_Res.params\n",
    "\n",
    "# Graficar los datos y la línea de regresión\n",
    "plt.scatter(x['roe'], y)\n",
    "plt.plot(x['roe'], coef_constante + coef_roe * np.array(x['roe']), color='red', label='Regresión')\n",
    "plt.xlabel('Variable predictora (roe)')\n",
    "plt.ylabel('Variable dependiente (salary)')\n",
    "plt.legend()\n",
    "plt.show()"
   ]
  }
 ],
 "metadata": {
  "kernelspec": {
   "display_name": "Python 3",
   "language": "python",
   "name": "python3"
  },
  "language_info": {
   "codemirror_mode": {
    "name": "ipython",
    "version": 3
   },
   "file_extension": ".py",
   "mimetype": "text/x-python",
   "name": "python",
   "nbconvert_exporter": "python",
   "pygments_lexer": "ipython3",
   "version": "3.10.5"
  },
  "orig_nbformat": 4
 },
 "nbformat": 4,
 "nbformat_minor": 2
}
