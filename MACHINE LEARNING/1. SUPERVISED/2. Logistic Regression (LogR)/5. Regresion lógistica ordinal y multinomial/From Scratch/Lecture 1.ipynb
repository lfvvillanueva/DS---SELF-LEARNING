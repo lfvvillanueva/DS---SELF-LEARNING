{
 "cells": [
  {
   "cell_type": "code",
   "execution_count": 12,
   "metadata": {},
   "outputs": [],
   "source": [
    "# Importando las librerías necesarias.\n",
    "import pandas as pd\n",
    "import numpy as np\n",
    "from sklearn.model_selection import train_test_split\n",
    "from sklearn import datasets\n",
    "import matplotlib.pyplot as plt"
   ]
  },
  {
   "cell_type": "code",
   "execution_count": 2,
   "metadata": {},
   "outputs": [],
   "source": [
    "# Importando la clase LogisticRegression que definiste anteriormente.\n",
    "from LogisticRegression import LogisticRegression"
   ]
  },
  {
   "cell_type": "code",
   "execution_count": 20,
   "metadata": {},
   "outputs": [],
   "source": [
    "# Cargando el conjunto de datos del cáncer de mama proporcionado por sklearn.\n",
    "bc = datasets.load_breast_cancer()"
   ]
  },
  {
   "cell_type": "code",
   "execution_count": 19,
   "metadata": {},
   "outputs": [
    {
     "name": "stdout",
     "output_type": "stream",
     "text": [
      "   mean radius  mean texture  mean perimeter  mean area  mean smoothness  \\\n",
      "0        17.99         10.38          122.80     1001.0          0.11840   \n",
      "1        20.57         17.77          132.90     1326.0          0.08474   \n",
      "2        19.69         21.25          130.00     1203.0          0.10960   \n",
      "3        11.42         20.38           77.58      386.1          0.14250   \n",
      "4        20.29         14.34          135.10     1297.0          0.10030   \n",
      "\n",
      "   mean compactness  mean concavity  mean concave points  mean symmetry  \\\n",
      "0           0.27760          0.3001              0.14710         0.2419   \n",
      "1           0.07864          0.0869              0.07017         0.1812   \n",
      "2           0.15990          0.1974              0.12790         0.2069   \n",
      "3           0.28390          0.2414              0.10520         0.2597   \n",
      "4           0.13280          0.1980              0.10430         0.1809   \n",
      "\n",
      "   mean fractal dimension  ...  worst radius  worst texture  worst perimeter  \\\n",
      "0                 0.07871  ...         25.38          17.33           184.60   \n",
      "1                 0.05667  ...         24.99          23.41           158.80   \n",
      "2                 0.05999  ...         23.57          25.53           152.50   \n",
      "3                 0.09744  ...         14.91          26.50            98.87   \n",
      "4                 0.05883  ...         22.54          16.67           152.20   \n",
      "\n",
      "   worst area  worst smoothness  worst compactness  worst concavity  \\\n",
      "0      2019.0            0.1622             0.6656           0.7119   \n",
      "1      1956.0            0.1238             0.1866           0.2416   \n",
      "2      1709.0            0.1444             0.4245           0.4504   \n",
      "3       567.7            0.2098             0.8663           0.6869   \n",
      "4      1575.0            0.1374             0.2050           0.4000   \n",
      "\n",
      "   worst concave points  worst symmetry  worst fractal dimension  \n",
      "0                0.2654          0.4601                  0.11890  \n",
      "1                0.1860          0.2750                  0.08902  \n",
      "2                0.2430          0.3613                  0.08758  \n",
      "3                0.2575          0.6638                  0.17300  \n",
      "4                0.1625          0.2364                  0.07678  \n",
      "\n",
      "[5 rows x 30 columns]\n"
     ]
    }
   ],
   "source": [
    "# Creando un DataFrame con los datos y las columnas.\n",
    "df = pd.DataFrame(data=bc.data, columns=bc.feature_names)\n",
    "\n",
    "# Mostrando las primeras filas del DataFrame.\n",
    "print(df.head())"
   ]
  },
  {
   "cell_type": "code",
   "execution_count": 4,
   "metadata": {},
   "outputs": [],
   "source": [
    "# Dividiendo el conjunto de datos en características (X) y etiquetas/target (y).\n",
    "X, y = bc.data, bc.target"
   ]
  },
  {
   "cell_type": "code",
   "execution_count": 5,
   "metadata": {},
   "outputs": [],
   "source": [
    "# Dividiendo los datos en conjuntos de entrenamiento y prueba. El 20% de los datos se reservará para pruebas.\n",
    "X_train, X_test, y_train, y_test = train_test_split(X, y, test_size=0.2, random_state=1234)"
   ]
  },
  {
   "cell_type": "code",
   "execution_count": 6,
   "metadata": {},
   "outputs": [],
   "source": [
    "# Instanciando el modelo de regresión logística con una tasa de aprendizaje de 0.01.\n",
    "clf = LogisticRegression(lr=0.01)"
   ]
  },
  {
   "cell_type": "code",
   "execution_count": 7,
   "metadata": {},
   "outputs": [
    {
     "name": "stderr",
     "output_type": "stream",
     "text": [
      "c:\\Users\\lfvvi\\OneDrive\\Documentos\\ESCRITORIO\\DS - SELF LEARNING\\MACHINE LEARNING\\1. SUPERVISED\\2. Logistic Regression (LogR)\\5. Regresion lógistica ordinal y multinomial\\From Scratch\\LogisticRegression.py:7: RuntimeWarning: overflow encountered in exp\n",
      "  return 1 / (1 + np.exp(-x))\n"
     ]
    }
   ],
   "source": [
    "# Entrenando el modelo con los datos de entrenamiento.\n",
    "clf.fit(X_train, y_train)"
   ]
  },
  {
   "cell_type": "code",
   "execution_count": 8,
   "metadata": {},
   "outputs": [],
   "source": [
    "# Función para calcular la precisión del modelo. Compara las predicciones con los valores verdaderos.\n",
    "def accuracy(y_pred, y_test):\n",
    "    return np.sum(y_pred == y_test) / len(y_test)"
   ]
  },
  {
   "cell_type": "code",
   "execution_count": 9,
   "metadata": {},
   "outputs": [
    {
     "ename": "NameError",
     "evalue": "name 'y_pred' is not defined",
     "output_type": "error",
     "traceback": [
      "\u001b[1;31m---------------------------------------------------------------------------\u001b[0m",
      "\u001b[1;31mNameError\u001b[0m                                 Traceback (most recent call last)",
      "\u001b[1;32mc:\\Users\\lfvvi\\OneDrive\\Documentos\\ESCRITORIO\\DS - SELF LEARNING\\MACHINE LEARNING\\1. SUPERVISED\\2. Logistic Regression (LogR)\\5. Regresion lógistica ordinal y multinomial\\From Scratch\\Lecture 1.ipynb Cell 9\u001b[0m in \u001b[0;36m<cell line: 2>\u001b[1;34m()\u001b[0m\n\u001b[0;32m      <a href='vscode-notebook-cell:/c%3A/Users/lfvvi/OneDrive/Documentos/ESCRITORIO/DS%20-%20SELF%20LEARNING/MACHINE%20LEARNING/1.%20SUPERVISED/2.%20Logistic%20Regression%20%28LogR%29/5.%20Regresion%20l%C3%B3gistica%20ordinal%20y%20multinomial/From%20Scratch/Lecture%201.ipynb#W1sZmlsZQ%3D%3D?line=0'>1</a>\u001b[0m \u001b[39m# Calculando y mostrando la precisión del modelo en los datos de prueba.\u001b[39;00m\n\u001b[1;32m----> <a href='vscode-notebook-cell:/c%3A/Users/lfvvi/OneDrive/Documentos/ESCRITORIO/DS%20-%20SELF%20LEARNING/MACHINE%20LEARNING/1.%20SUPERVISED/2.%20Logistic%20Regression%20%28LogR%29/5.%20Regresion%20l%C3%B3gistica%20ordinal%20y%20multinomial/From%20Scratch/Lecture%201.ipynb#W1sZmlsZQ%3D%3D?line=1'>2</a>\u001b[0m acc \u001b[39m=\u001b[39m accuracy(y_pred, y_test)\n\u001b[0;32m      <a href='vscode-notebook-cell:/c%3A/Users/lfvvi/OneDrive/Documentos/ESCRITORIO/DS%20-%20SELF%20LEARNING/MACHINE%20LEARNING/1.%20SUPERVISED/2.%20Logistic%20Regression%20%28LogR%29/5.%20Regresion%20l%C3%B3gistica%20ordinal%20y%20multinomial/From%20Scratch/Lecture%201.ipynb#W1sZmlsZQ%3D%3D?line=2'>3</a>\u001b[0m \u001b[39mprint\u001b[39m(acc)\n",
      "\u001b[1;31mNameError\u001b[0m: name 'y_pred' is not defined"
     ]
    }
   ],
   "source": [
    "# Calculando y mostrando la precisión del modelo en los datos de prueba.\n",
    "acc = accuracy(y_pred, y_test)\n",
    "print(acc)"
   ]
  }
 ],
 "metadata": {
  "kernelspec": {
   "display_name": "Python 3",
   "language": "python",
   "name": "python3"
  },
  "language_info": {
   "codemirror_mode": {
    "name": "ipython",
    "version": 3
   },
   "file_extension": ".py",
   "mimetype": "text/x-python",
   "name": "python",
   "nbconvert_exporter": "python",
   "pygments_lexer": "ipython3",
   "version": "3.10.5"
  },
  "orig_nbformat": 4
 },
 "nbformat": 4,
 "nbformat_minor": 2
}
