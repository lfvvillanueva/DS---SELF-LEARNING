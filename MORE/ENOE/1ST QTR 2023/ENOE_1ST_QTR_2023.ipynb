{
 "cells": [
  {
   "cell_type": "code",
   "execution_count": 1,
   "metadata": {},
   "outputs": [],
   "source": [
    "import pandas as pd\n",
    "import numpy as np\n",
    "import matplotlib.pyplot as plt"
   ]
  },
  {
   "cell_type": "markdown",
   "metadata": {},
   "source": [
    "Encuesta Nacional de Ocupación y Empleo (ENOE) => Estructura de la tabla de datos del sociodemográfico\n",
    "\n",
    "\n",
    "\n",
    "- Campo 24 (SEX): 1 = Hombre y 2= Mujer\n",
    "- Campo 25 (EDA): Edad, revisar invalidos en la tabla (00, 97-99)\n",
    "- Campo 31 (CS_P13_1): Nivel de estudios (no años de estudio, revisar tabla)\n",
    "- Campo 33 (CCS_P14_C): Interesante para conocer las mas estudiadas, de forma segmentada\n",
    "\n",
    "- Campo 81\n"
   ]
  },
  {
   "cell_type": "code",
   "execution_count": 2,
   "metadata": {},
   "outputs": [
    {
     "name": "stderr",
     "output_type": "stream",
     "text": [
      "C:\\Users\\lfvvi\\AppData\\Local\\Temp\\ipykernel_21084\\92391124.py:1: DtypeWarning: Columns (2,5,8,22,23,24,25,26,27,28) have mixed types. Specify dtype option on import or set low_memory=False.\n",
      "  DB = pd.read_csv(\"ENOE_SDEMT123.csv\", sep=\",\", encoding=\"latin-1\")\n"
     ]
    }
   ],
   "source": [
    "DB = pd.read_csv(\"ENOE_SDEMT123.csv\", sep=\",\", encoding=\"latin-1\")"
   ]
  },
  {
   "cell_type": "code",
   "execution_count": 3,
   "metadata": {},
   "outputs": [],
   "source": [
    "DB.size\n",
    "Y_dim, X_dim = DB.shape"
   ]
  },
  {
   "cell_type": "code",
   "execution_count": 4,
   "metadata": {},
   "outputs": [
    {
     "name": "stdout",
     "output_type": "stream",
     "text": [
      "El salario de los hombre es $9849.21, el de las mujeres es $7546.17, por lo que un hombre gana el promedio mas 2303.04\n",
      "La proporción de hombres es de 58.31% vs 41.69% \n"
     ]
    }
   ],
   "source": [
    "salario_p_mujer = round(DB[ (DB['ingocup'] > 0) & (DB['sex'] == 2) ]['ingocup'].mean(),2)\n",
    "salario_p_mujer_count = DB[ (DB['ingocup'] > 0) & (DB['sex'] == 2) ]['ingocup'].count()\n",
    "salario_p_hombre = round(DB[ (DB['ingocup'] > 0) & (DB['sex'] == 1) ]['ingocup'].mean(),2)\n",
    "salario_p_hombre_count = DB[ (DB['ingocup'] > 0) & (DB['sex'] == 1) ]['ingocup'].count()\n",
    "\n",
    "\n",
    "print(f'El salario de los hombre es ${salario_p_hombre}, el de las mujeres es ${salario_p_mujer}, por lo que un hombre gana el promedio mas {round(salario_p_hombre - salario_p_mujer,2)}')\n",
    "\n",
    "print(f\"La proporción de hombres es de {round(salario_p_hombre_count/(salario_p_hombre_count+salario_p_mujer_count)*100,2)}% vs {round(salario_p_mujer_count/(salario_p_hombre_count+salario_p_mujer_count)*100,2)}% \")"
   ]
  },
  {
   "cell_type": "code",
   "execution_count": 5,
   "metadata": {},
   "outputs": [
    {
     "data": {
      "image/png": "[encoded data removed]",
      "text/plain": [
       "<Figure size 432x288 with 1 Axes>"
      ]
     },
     "metadata": {
      "needs_background": "light"
     },
     "output_type": "display_data"
    }
   ],
   "source": [
    "# Calculate the mean value of the data\n",
    "mean_salario = np.mean(salario_p_mujer)\n",
    "\n",
    "# Create the histogram with a specified number of bins and normalized density\n",
    "plt.hist(DB[ (DB['ingocup'] > 0) & (DB['sex'] == 2) ]['ingocup'], bins=200)\n",
    "\n",
    "# Set the X-axis range (adjust the limits as per your desired range)\n",
    "plt.xlim(0, 30000)  # Replace 0 and 100000 with your desired lower and upper limits\n",
    "\n",
    "# Add a vertical line at the mean value\n",
    "plt.axvline(mean_salario, color='red', linestyle='dashed', linewidth=2, label=f'Promedio: ${mean_salario}')\n",
    "\n",
    "# Add labels and a title to the plot (optional but recommended)\n",
    "plt.xlabel('Salario')\n",
    "plt.ylabel('Density')\n",
    "plt.title('Histogram of Salario for Mujer')\n",
    "\n",
    "# Add a legend to the plot to display the label 'Mean' for the vertical line\n",
    "plt.legend()\n",
    "\n",
    "# Display the plot\n",
    "plt.show()\n"
   ]
  }
 ],
 "metadata": {
  "kernelspec": {
   "display_name": "Python 3",
   "language": "python",
   "name": "python3"
  },
  "language_info": {
   "codemirror_mode": {
    "name": "ipython",
    "version": 3
   },
   "file_extension": ".py",
   "mimetype": "text/x-python",
   "name": "python",
   "nbconvert_exporter": "python",
   "pygments_lexer": "ipython3",
   "version": "3.10.5"
  },
  "orig_nbformat": 4
 },
 "nbformat": 4,
 "nbformat_minor": 2
}
