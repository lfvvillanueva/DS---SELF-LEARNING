{
 "cells": [
  {
   "cell_type": "markdown",
   "metadata": {},
   "source": [
    "# NumPy Basics"
   ]
  },
  {
   "cell_type": "markdown",
   "metadata": {},
   "source": [
    "NumPy, abreviado de Numerical Python, es uno de los paquetes fundamentales más importantes para la computación numérica en Python. Muchos paquetes computacionales que ofrecen funcionalidad científica utilizan los objetos de arrays de NumPy como una de las interfaces estándar de intercambio de datos. Gran parte del conocimiento sobre NumPy que cubro también es aplicable a pandas."
   ]
  },
  {
   "cell_type": "code",
   "execution_count": 10,
   "metadata": {},
   "outputs": [],
   "source": [
    "import numpy as np"
   ]
  },
  {
   "cell_type": "code",
   "execution_count": 11,
   "metadata": {},
   "outputs": [],
   "source": [
    "my_arr = np.arange(1_000_000)\n",
    "my_list = list(range(1_000_000))"
   ]
  },
  {
   "cell_type": "code",
   "execution_count": 12,
   "metadata": {},
   "outputs": [
    {
     "name": "stdout",
     "output_type": "stream",
     "text": [
      "1.99 ms ± 328 µs per loop (mean ± std. dev. of 7 runs, 100 loops each)\n"
     ]
    }
   ],
   "source": [
    "%timeit my_arr2 = my_arr * 2"
   ]
  },
  {
   "cell_type": "code",
   "execution_count": 13,
   "metadata": {},
   "outputs": [
    {
     "name": "stdout",
     "output_type": "stream",
     "text": [
      "82.1 ms ± 5.4 ms per loop (mean ± std. dev. of 7 runs, 10 loops each)\n"
     ]
    }
   ],
   "source": [
    "%timeit my_list2 = [x *2 for x in my_list]"
   ]
  },
  {
   "cell_type": "markdown",
   "metadata": {},
   "source": [
    "Los algoritmos basados en NumPy generalmente son de 10 a 100 veces más rápidos (o incluso más) que sus equivalentes en Python puro, y utilizan significativamente menos memoria."
   ]
  },
  {
   "cell_type": "markdown",
   "metadata": {},
   "source": [
    "## Multidimensional Array Object"
   ]
  },
  {
   "cell_type": "markdown",
   "metadata": {},
   "source": [
    "`np.array` es una clase fundamental en la biblioteca NumPy (Numerical Python) que proporciona una estructura de datos llamada \"ndarray\" (arreglo multidimensional) para el almacenamiento y manipulación eficiente de datos numéricos en Python. Los arreglos de NumPy son similares a las listas de Python, pero ofrecen muchas ventajas adicionales, como operaciones vectorizadas, acceso rápido a elementos y una mayor eficiencia en términos de memoria y rendimiento.\n",
    "\n",
    "Aquí hay algunos aspectos importantes para tener en cuenta sobre `np.array`:\n",
    "\n",
    "1. Creación de arreglos:\n",
    "   - Puedes crear un ndarray utilizando funciones como `np.array()`, `np.zeros()`, `np.ones()`, `np.empty()`, `np.arange()`, `np.linspace()`, entre otras.\n",
    "\n",
    "2. Dimensionalidad:\n",
    "   - Los arreglos de NumPy pueden ser unidimensionales (vectores), bidimensionales (matrices) o tener más dimensiones.\n",
    "\n",
    "3. Propiedades del arreglo:\n",
    "   - `shape`: Devuelve una tupla que indica el tamaño de cada dimensión del arreglo.\n",
    "   - `dtype`: Especifica el tipo de datos de los elementos almacenados en el arreglo.\n",
    "\n",
    "4. Operaciones vectorizadas:\n",
    "   - Las operaciones en arreglos de NumPy se aplican de forma vectorizada, lo que permite realizar operaciones rápidas y eficientes en grandes conjuntos de datos.\n",
    "\n",
    "5. Indexación y rebanado:\n",
    "   - Los arreglos de NumPy admiten una variedad de técnicas de indexación y rebanado para acceder y modificar elementos y subconjuntos de datos.\n",
    "\n",
    "6. Operaciones matemáticas:\n",
    "   - NumPy ofrece una amplia gama de funciones matemáticas y operadores para realizar cálculos en arreglos, como suma, resta, multiplicación, división, exponenciación y más.\n",
    "\n",
    "7. Broadcasting:\n",
    "   - NumPy permite realizar operaciones entre arreglos de diferentes tamaños a través del broadcasting, que es una regla para extender automáticamente las dimensiones de los arreglos más pequeños para que coincidan con los más grandes.\n",
    "\n",
    "8. Eficiencia:\n",
    "   - Debido a que los arreglos de NumPy están implementados en C y utilizan tipos de datos nativos, son más eficientes en términos de memoria y rendimiento en comparación con las listas de Python.\n",
    "\n",
    "9. Integración con otras bibliotecas:\n",
    "   - NumPy es ampliamente utilizado en la comunidad científica y es una base para muchas otras bibliotecas populares, como SciPy, pandas y scikit-learn.\n",
    "\n",
    "En resumen, `np.array` es una poderosa herramienta para trabajar con datos numéricos en Python, y su uso es esencial para realizar cálculos eficientes y manipulación de datos en aplicaciones científicas, matemáticas y de análisis de datos.\n"
   ]
  },
  {
   "cell_type": "code",
   "execution_count": 17,
   "metadata": {},
   "outputs": [],
   "source": [
    "data = np.array([[1,2,3],[4,5,6]])\n",
    "other_array = np.array([[10, 20, 30], [40, 50, 60]])"
   ]
  },
  {
   "cell_type": "markdown",
   "metadata": {},
   "source": [
    "Podemos hacer operaciones matemáticas elemento a elemento como las siguientes."
   ]
  },
  {
   "cell_type": "markdown",
   "metadata": {},
   "source": [
    "### Suma"
   ]
  },
  {
   "cell_type": "code",
   "execution_count": 18,
   "metadata": {},
   "outputs": [
    {
     "data": {
      "text/plain": [
       "array([[11, 22, 33],\n",
       "       [44, 55, 66]])"
      ]
     },
     "execution_count": 18,
     "metadata": {},
     "output_type": "execute_result"
    }
   ],
   "source": [
    "result_sum = data + other_array\n",
    "result_sum"
   ]
  },
  {
   "cell_type": "markdown",
   "metadata": {},
   "source": [
    "### Resta"
   ]
  },
  {
   "cell_type": "code",
   "execution_count": 21,
   "metadata": {},
   "outputs": [
    {
     "data": {
      "text/plain": [
       "array([[ -9, -18, -27],\n",
       "       [-36, -45, -54]])"
      ]
     },
     "execution_count": 21,
     "metadata": {},
     "output_type": "execute_result"
    }
   ],
   "source": [
    "result_subtract = data - other_array\n",
    "result_subtract"
   ]
  },
  {
   "cell_type": "markdown",
   "metadata": {},
   "source": [
    "### Potencia"
   ]
  },
  {
   "cell_type": "code",
   "execution_count": 44,
   "metadata": {},
   "outputs": [
    {
     "data": {
      "text/plain": [
       "array([[ 1,  4,  9],\n",
       "       [16, 25, 36]])"
      ]
     },
     "execution_count": 44,
     "metadata": {},
     "output_type": "execute_result"
    }
   ],
   "source": [
    "result_power = data ** 2\n",
    "result_power"
   ]
  },
  {
   "cell_type": "markdown",
   "metadata": {},
   "source": [
    "### Division"
   ]
  },
  {
   "cell_type": "code",
   "execution_count": 43,
   "metadata": {},
   "outputs": [
    {
     "data": {
      "text/plain": [
       "array([[0.5, 1. , 1.5],\n",
       "       [2. , 2.5, 3. ]])"
      ]
     },
     "execution_count": 43,
     "metadata": {},
     "output_type": "execute_result"
    }
   ],
   "source": [
    "result_division =  data / 2\n",
    "result_division"
   ]
  },
  {
   "cell_type": "markdown",
   "metadata": {},
   "source": [
    "### Multiplicación por un escalar"
   ]
  },
  {
   "cell_type": "code",
   "execution_count": 22,
   "metadata": {},
   "outputs": [
    {
     "data": {
      "text/plain": [
       "array([[ 2,  4,  6],\n",
       "       [ 8, 10, 12]])"
      ]
     },
     "execution_count": 22,
     "metadata": {},
     "output_type": "execute_result"
    }
   ],
   "source": [
    "scalar = 2\n",
    "result_scalar_multiply = data * scalar\n",
    "result_scalar_multiply"
   ]
  },
  {
   "cell_type": "markdown",
   "metadata": {},
   "source": [
    "### Transposición de la matriz:\n"
   ]
  },
  {
   "cell_type": "code",
   "execution_count": 26,
   "metadata": {},
   "outputs": [
    {
     "data": {
      "text/plain": [
       "array([[10, 40],\n",
       "       [20, 50],\n",
       "       [30, 60]])"
      ]
     },
     "execution_count": 26,
     "metadata": {},
     "output_type": "execute_result"
    }
   ],
   "source": [
    "Transpose_array = other_array.T\n",
    "Transpose_array"
   ]
  },
  {
   "cell_type": "markdown",
   "metadata": {},
   "source": [
    "### Producto de matrices (producto punto):\n"
   ]
  },
  {
   "cell_type": "code",
   "execution_count": 25,
   "metadata": {},
   "outputs": [
    {
     "data": {
      "text/plain": [
       "array([[140, 320],\n",
       "       [320, 770]])"
      ]
     },
     "execution_count": 25,
     "metadata": {},
     "output_type": "execute_result"
    }
   ],
   "source": [
    "\n",
    "result_dot_product = np.dot(data, Transpose_array)\n",
    "result_dot_product"
   ]
  },
  {
   "cell_type": "markdown",
   "metadata": {},
   "source": [
    "### Shape"
   ]
  },
  {
   "cell_type": "code",
   "execution_count": 30,
   "metadata": {},
   "outputs": [
    {
     "name": "stdout",
     "output_type": "stream",
     "text": [
      "2\n",
      "3\n"
     ]
    }
   ],
   "source": [
    "columnas, filas = data.shape\n",
    "\n",
    "print(columnas)\n",
    "print(filas)"
   ]
  },
  {
   "cell_type": "markdown",
   "metadata": {},
   "source": [
    "## Creando ndarrays"
   ]
  },
  {
   "cell_type": "code",
   "execution_count": 33,
   "metadata": {},
   "outputs": [],
   "source": [
    "data1 = range(100)"
   ]
  },
  {
   "cell_type": "code",
   "execution_count": 34,
   "metadata": {},
   "outputs": [],
   "source": [
    "arr1 = np.array(data1)"
   ]
  },
  {
   "cell_type": "markdown",
   "metadata": {},
   "source": [
    "### Algunas funciones de creación de NumPy arrays importantes"
   ]
  },
  {
   "cell_type": "markdown",
   "metadata": {},
   "source": [
    "1. array y asarray:\n"
   ]
  },
  {
   "cell_type": "code",
   "execution_count": 35,
   "metadata": {},
   "outputs": [
    {
     "name": "stdout",
     "output_type": "stream",
     "text": [
      "Array creado desde lista: [1 2 3 4 5]\n",
      "Array creado desde tupla: [10 20 30 40 50]\n"
     ]
    }
   ],
   "source": [
    "# Ejemplo de array\n",
    "input_list = [1, 2, 3, 4, 5]\n",
    "arr_from_list = np.array(input_list)\n",
    "print(\"Array creado desde lista:\", arr_from_list)\n",
    "\n",
    "# Ejemplo de asarray\n",
    "input_tuple = (10, 20, 30, 40, 50)\n",
    "arr_from_tuple = np.asarray(input_tuple)\n",
    "print(\"Array creado desde tupla:\", arr_from_tuple)"
   ]
  },
  {
   "cell_type": "markdown",
   "metadata": {},
   "source": [
    "2. arange:\n"
   ]
  },
  {
   "cell_type": "code",
   "execution_count": 37,
   "metadata": {},
   "outputs": [
    {
     "name": "stdout",
     "output_type": "stream",
     "text": [
      "Arreglo utilizando arange: [1 3 5 7 9]\n"
     ]
    }
   ],
   "source": [
    "# Ejemplo de arange\n",
    "arr_arange = np.arange(1, 11, 2)  # Inicio, fin (no inclusivo), paso\n",
    "print(\"Arreglo utilizando arange:\", arr_arange)"
   ]
  },
  {
   "cell_type": "markdown",
   "metadata": {},
   "source": [
    "3. ones y ones_like:"
   ]
  },
  {
   "cell_type": "code",
   "execution_count": 38,
   "metadata": {},
   "outputs": [
    {
     "name": "stdout",
     "output_type": "stream",
     "text": [
      "Arreglo de unos: [[1 1 1]\n",
      " [1 1 1]]\n",
      "Arreglo de unos con el mismo shape y dtype que el arreglo existente: [[1 1 1]\n",
      " [1 1 1]]\n"
     ]
    }
   ],
   "source": [
    "# Ejemplo de ones\n",
    "shape = (2, 3)\n",
    "arr_ones = np.ones(shape, dtype=int)\n",
    "print(\"Arreglo de unos:\", arr_ones)\n",
    "\n",
    "# Ejemplo de ones_like\n",
    "existing_array = np.array([[1, 2, 3], [4, 5, 6]])\n",
    "arr_ones_like = np.ones_like(existing_array)\n",
    "print(\"Arreglo de unos con el mismo shape y dtype que el arreglo existente:\", arr_ones_like)"
   ]
  },
  {
   "cell_type": "markdown",
   "metadata": {},
   "source": [
    "3. Zeros y Zeros_like"
   ]
  },
  {
   "cell_type": "code",
   "execution_count": 39,
   "metadata": {},
   "outputs": [
    {
     "name": "stdout",
     "output_type": "stream",
     "text": [
      "Arreglo de ceros: [[0. 0. 0. 0.]\n",
      " [0. 0. 0. 0.]\n",
      " [0. 0. 0. 0.]]\n",
      "Arreglo de ceros con el mismo shape y dtype que el arreglo existente: [[0 0]\n",
      " [0 0]]\n"
     ]
    }
   ],
   "source": [
    "# Ejemplo de zeros\n",
    "shape = (3, 4)\n",
    "arr_zeros = np.zeros(shape, dtype=float)\n",
    "print(\"Arreglo de ceros:\", arr_zeros)\n",
    "\n",
    "# Ejemplo de zeros_like\n",
    "existing_array = np.array([[10, 20], [30, 40]])\n",
    "arr_zeros_like = np.zeros_like(existing_array)\n",
    "print(\"Arreglo de ceros con el mismo shape y dtype que el arreglo existente:\", arr_zeros_like)"
   ]
  },
  {
   "cell_type": "markdown",
   "metadata": {},
   "source": [
    "\n",
    "4. empty y empty_like:\n"
   ]
  },
  {
   "cell_type": "code",
   "execution_count": 40,
   "metadata": {},
   "outputs": [
    {
     "name": "stdout",
     "output_type": "stream",
     "text": [
      "Arreglo vacío (con valores no inicializados): [[-1204092880         395]\n",
      " [          0           0]]\n",
      "Arreglo vacío con el mismo shape y dtype que el arreglo existente: [[10 20]\n",
      " [30 40]]\n"
     ]
    }
   ],
   "source": [
    "# Ejemplo de empty\n",
    "shape = (2, 2)\n",
    "arr_empty = np.empty(shape, dtype=int)\n",
    "print(\"Arreglo vacío (con valores no inicializados):\", arr_empty)\n",
    "\n",
    "# Ejemplo de empty_like\n",
    "existing_array = np.array([[1, 2], [3, 4]])\n",
    "arr_empty_like = np.empty_like(existing_array)\n",
    "print(\"Arreglo vacío con el mismo shape y dtype que el arreglo existente:\", arr_empty_like)"
   ]
  },
  {
   "cell_type": "markdown",
   "metadata": {},
   "source": [
    "5. full y full_like:"
   ]
  },
  {
   "cell_type": "code",
   "execution_count": 41,
   "metadata": {},
   "outputs": [
    {
     "name": "stdout",
     "output_type": "stream",
     "text": [
      "Arreglo con valores iguales al valor de relleno: [[7 7 7]\n",
      " [7 7 7]\n",
      " [7 7 7]]\n",
      "Arreglo con valores iguales al valor de relleno y con el mismo shape y dtype que el arreglo existente: [[7 7]\n",
      " [7 7]]\n"
     ]
    }
   ],
   "source": [
    "# Ejemplo de full\n",
    "shape = (3, 3)\n",
    "fill_value = 7\n",
    "arr_full = np.full(shape, fill_value)\n",
    "print(\"Arreglo con valores iguales al valor de relleno:\", arr_full)\n",
    "\n",
    "# Ejemplo de full_like\n",
    "existing_array = np.array([[5, 10], [15, 20]])\n",
    "arr_full_like = np.full_like(existing_array, fill_value)\n",
    "print(\"Arreglo con valores iguales al valor de relleno y con el mismo shape y dtype que el arreglo existente:\", arr_full_like)"
   ]
  },
  {
   "cell_type": "markdown",
   "metadata": {},
   "source": [
    "6. eye e identity:\n"
   ]
  },
  {
   "cell_type": "code",
   "execution_count": 42,
   "metadata": {},
   "outputs": [
    {
     "name": "stdout",
     "output_type": "stream",
     "text": [
      "Matriz identidad de 4x4:\n",
      "[[1. 0. 0. 0.]\n",
      " [0. 1. 0. 0.]\n",
      " [0. 0. 1. 0.]\n",
      " [0. 0. 0. 1.]]\n",
      "Matriz identidad de 3x3:\n",
      "[[1. 0. 0.]\n",
      " [0. 1. 0.]\n",
      " [0. 0. 1.]]\n"
     ]
    }
   ],
   "source": [
    "# Ejemplo de eye\n",
    "N = 4\n",
    "arr_eye = np.eye(N)\n",
    "print(\"Matriz identidad de 4x4:\")\n",
    "print(arr_eye)\n",
    "\n",
    "# Ejemplo de identity\n",
    "M = 3\n",
    "arr_identity = np.identity(M)\n",
    "print(\"Matriz identidad de 3x3:\")\n",
    "print(arr_identity)\n"
   ]
  },
  {
   "cell_type": "markdown",
   "metadata": {},
   "source": [
    "Recuerda que en cada ejemplo, debes importar la biblioteca NumPy (import numpy as np) para utilizar estas funciones. Los resultados mostrados son solo ejemplos, y puedes cambiar los valores de entrada o las formas de los arreglos para explorar diferentes situaciones y funcionalidades de NumPy."
   ]
  },
  {
   "cell_type": "markdown",
   "metadata": {},
   "source": [
    "## Indexation básica y rebanadas"
   ]
  },
  {
   "cell_type": "markdown",
   "metadata": {},
   "source": [
    "1. Indexando Arrays Unidimensionales\n",
    "\n",
    "Para un array unidimensional, el indexado y el slicing funcionan de manera similar a las listas de Python."
   ]
  },
  {
   "cell_type": "code",
   "execution_count": 45,
   "metadata": {},
   "outputs": [
    {
     "name": "stdout",
     "output_type": "stream",
     "text": [
      "0\n",
      "4\n",
      "[1 2 3]\n",
      "[0 1 2]\n",
      "[3 4 5]\n"
     ]
    }
   ],
   "source": [
    "a = np.array([0, 1, 2, 3, 4, 5])\n",
    "\n",
    "# Indexando\n",
    "print(a[0])  # 0\n",
    "print(a[4])  # 4\n",
    "\n",
    "# Slicing\n",
    "print(a[1:4])  # [1 2 3]\n",
    "print(a[:3])   # [0 1 2]\n",
    "print(a[3:])   # [3 4 5]\n"
   ]
  },
  {
   "cell_type": "markdown",
   "metadata": {},
   "source": [
    "2. Indexando Arrays Bidimensionales (Matrices)\n",
    "\n",
    "Para arrays bidimensionales, puedes pensar en la primera dimensión como \"filas\" y la segunda como \"columnas\"."
   ]
  },
  {
   "cell_type": "code",
   "execution_count": 47,
   "metadata": {},
   "outputs": [
    {
     "name": "stdout",
     "output_type": "stream",
     "text": [
      "[[0 1 2]\n",
      " [3 4 5]\n",
      " [6 7 8]]\n",
      "0\n",
      "5\n",
      "[[1 2]\n",
      " [4 5]]\n",
      "[1 4 7]\n"
     ]
    }
   ],
   "source": [
    "b = np.array([[0, 1, 2], [3, 4, 5], [6, 7, 8]])\n",
    "print(b)\n",
    "\n",
    "# Indexando\n",
    "print(b[0, 0])  # 0\n",
    "print(b[1, 2])  # 5\n",
    "\n",
    "# Slicing\n",
    "print(b[0:2, 1:3])  # [[1 2]\n",
    "                    #  [4 5]]\n",
    "\n",
    "print(b[:, 1])      # [1 4 7]\n"
   ]
  },
  {
   "cell_type": "markdown",
   "metadata": {},
   "source": [
    "3. Indexando Arrays Multidimensionales\n",
    "\n",
    "Para arrays con más de dos dimensiones, el principio es el mismo, solo que se agregan más índices."
   ]
  },
  {
   "cell_type": "code",
   "execution_count": 49,
   "metadata": {},
   "outputs": [
    {
     "name": "stdout",
     "output_type": "stream",
     "text": [
      "[[[0 1]\n",
      "  [2 3]]\n",
      "\n",
      " [[4 5]\n",
      "  [6 7]]]\n",
      "3\n",
      "[1 3]\n"
     ]
    }
   ],
   "source": [
    "c = np.array([[[0, 1], [2, 3]], [[4, 5], [6, 7]]])\n",
    "print(c)\n",
    "\n",
    "# Indexando\n",
    "print(c[0, 1, 1])  # 3\n",
    "\n",
    "# Slicing\n",
    "print(c[0, :, 1])  # [1 3]"
   ]
  }
 ],
 "metadata": {
  "kernelspec": {
   "display_name": "Python 3",
   "language": "python",
   "name": "python3"
  },
  "language_info": {
   "codemirror_mode": {
    "name": "ipython",
    "version": 3
   },
   "file_extension": ".py",
   "mimetype": "text/x-python",
   "name": "python",
   "nbconvert_exporter": "python",
   "pygments_lexer": "ipython3",
   "version": "3.10.5"
  },
  "orig_nbformat": 4
 },
 "nbformat": 4,
 "nbformat_minor": 2
}
